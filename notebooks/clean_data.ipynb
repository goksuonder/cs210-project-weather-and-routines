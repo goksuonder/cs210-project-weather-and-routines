{
 "cells": [
  {
   "cell_type": "code",
   "execution_count": 2,
   "metadata": {},
   "outputs": [],
   "source": [
    "import pandas as pd"
   ]
  },
  {
   "cell_type": "code",
   "execution_count": 3,
   "metadata": {},
   "outputs": [
    {
     "data": {
      "text/html": [
       "<div>\n",
       "<style scoped>\n",
       "    .dataframe tbody tr th:only-of-type {\n",
       "        vertical-align: middle;\n",
       "    }\n",
       "\n",
       "    .dataframe tbody tr th {\n",
       "        vertical-align: top;\n",
       "    }\n",
       "\n",
       "    .dataframe thead th {\n",
       "        text-align: right;\n",
       "    }\n",
       "</style>\n",
       "<table border=\"1\" class=\"dataframe\">\n",
       "  <thead>\n",
       "    <tr style=\"text-align: right;\">\n",
       "      <th></th>\n",
       "      <th>datetime</th>\n",
       "      <th>temperature</th>\n",
       "      <th>humidity</th>\n",
       "      <th>windspeed</th>\n",
       "    </tr>\n",
       "  </thead>\n",
       "  <tbody>\n",
       "    <tr>\n",
       "      <th>0</th>\n",
       "      <td>2024-07-01</td>\n",
       "      <td>25.9</td>\n",
       "      <td>67.5</td>\n",
       "      <td>27.2</td>\n",
       "    </tr>\n",
       "    <tr>\n",
       "      <th>1</th>\n",
       "      <td>2024-07-02</td>\n",
       "      <td>27.1</td>\n",
       "      <td>68.3</td>\n",
       "      <td>19.6</td>\n",
       "    </tr>\n",
       "    <tr>\n",
       "      <th>2</th>\n",
       "      <td>2024-07-03</td>\n",
       "      <td>27.5</td>\n",
       "      <td>61.9</td>\n",
       "      <td>28.7</td>\n",
       "    </tr>\n",
       "    <tr>\n",
       "      <th>3</th>\n",
       "      <td>2024-07-04</td>\n",
       "      <td>25.2</td>\n",
       "      <td>75.1</td>\n",
       "      <td>24.2</td>\n",
       "    </tr>\n",
       "    <tr>\n",
       "      <th>4</th>\n",
       "      <td>2024-07-05</td>\n",
       "      <td>24.5</td>\n",
       "      <td>71.8</td>\n",
       "      <td>26.1</td>\n",
       "    </tr>\n",
       "  </tbody>\n",
       "</table>\n",
       "</div>"
      ],
      "text/plain": [
       "     datetime  temperature  humidity  windspeed\n",
       "0  2024-07-01         25.9      67.5       27.2\n",
       "1  2024-07-02         27.1      68.3       19.6\n",
       "2  2024-07-03         27.5      61.9       28.7\n",
       "3  2024-07-04         25.2      75.1       24.2\n",
       "4  2024-07-05         24.5      71.8       26.1"
      ]
     },
     "execution_count": 3,
     "metadata": {},
     "output_type": "execute_result"
    }
   ],
   "source": [
    "weather_df = (\n",
    "    pd.read_csv('../datas/weather.csv')\n",
    "    [['datetime', 'feelslike', 'humidity', 'windspeed']]\n",
    "    .rename(columns={'feelslike': 'temperature'})\n",
    ")\n",
    "\n",
    "weather_df.head()"
   ]
  },
  {
   "cell_type": "code",
   "execution_count": 4,
   "metadata": {},
   "outputs": [
    {
     "data": {
      "text/html": [
       "<div>\n",
       "<style scoped>\n",
       "    .dataframe tbody tr th:only-of-type {\n",
       "        vertical-align: middle;\n",
       "    }\n",
       "\n",
       "    .dataframe tbody tr th {\n",
       "        vertical-align: top;\n",
       "    }\n",
       "\n",
       "    .dataframe thead th {\n",
       "        text-align: right;\n",
       "    }\n",
       "</style>\n",
       "<table border=\"1\" class=\"dataframe\">\n",
       "  <thead>\n",
       "    <tr style=\"text-align: right;\">\n",
       "      <th></th>\n",
       "      <th>creationDate</th>\n",
       "      <th>sleepDuration</th>\n",
       "    </tr>\n",
       "  </thead>\n",
       "  <tbody>\n",
       "    <tr>\n",
       "      <th>0</th>\n",
       "      <td>2024-07-01</td>\n",
       "      <td>7.887778</td>\n",
       "    </tr>\n",
       "    <tr>\n",
       "      <th>1</th>\n",
       "      <td>2024-07-02</td>\n",
       "      <td>8.314444</td>\n",
       "    </tr>\n",
       "    <tr>\n",
       "      <th>2</th>\n",
       "      <td>2024-07-03</td>\n",
       "      <td>8.044722</td>\n",
       "    </tr>\n",
       "    <tr>\n",
       "      <th>3</th>\n",
       "      <td>2024-07-04</td>\n",
       "      <td>8.088056</td>\n",
       "    </tr>\n",
       "    <tr>\n",
       "      <th>4</th>\n",
       "      <td>2024-07-05</td>\n",
       "      <td>7.751667</td>\n",
       "    </tr>\n",
       "  </tbody>\n",
       "</table>\n",
       "</div>"
      ],
      "text/plain": [
       "  creationDate  sleepDuration\n",
       "0   2024-07-01       7.887778\n",
       "1   2024-07-02       8.314444\n",
       "2   2024-07-03       8.044722\n",
       "3   2024-07-04       8.088056\n",
       "4   2024-07-05       7.751667"
      ]
     },
     "execution_count": 4,
     "metadata": {},
     "output_type": "execute_result"
    }
   ],
   "source": [
    "sleep_df = pd.read_csv('../datas/sleep.csv')\n",
    "sleep_df.head()"
   ]
  },
  {
   "cell_type": "code",
   "execution_count": 5,
   "metadata": {},
   "outputs": [
    {
     "data": {
      "text/html": [
       "<div>\n",
       "<style scoped>\n",
       "    .dataframe tbody tr th:only-of-type {\n",
       "        vertical-align: middle;\n",
       "    }\n",
       "\n",
       "    .dataframe tbody tr th {\n",
       "        vertical-align: top;\n",
       "    }\n",
       "\n",
       "    .dataframe thead th {\n",
       "        text-align: right;\n",
       "    }\n",
       "</style>\n",
       "<table border=\"1\" class=\"dataframe\">\n",
       "  <thead>\n",
       "    <tr style=\"text-align: right;\">\n",
       "      <th></th>\n",
       "      <th>date</th>\n",
       "      <th>stepCount</th>\n",
       "    </tr>\n",
       "  </thead>\n",
       "  <tbody>\n",
       "    <tr>\n",
       "      <th>0</th>\n",
       "      <td>2024-07-01</td>\n",
       "      <td>5882</td>\n",
       "    </tr>\n",
       "    <tr>\n",
       "      <th>1</th>\n",
       "      <td>2024-07-02</td>\n",
       "      <td>2498</td>\n",
       "    </tr>\n",
       "    <tr>\n",
       "      <th>2</th>\n",
       "      <td>2024-07-03</td>\n",
       "      <td>3178</td>\n",
       "    </tr>\n",
       "    <tr>\n",
       "      <th>3</th>\n",
       "      <td>2024-07-04</td>\n",
       "      <td>6168</td>\n",
       "    </tr>\n",
       "    <tr>\n",
       "      <th>4</th>\n",
       "      <td>2024-07-05</td>\n",
       "      <td>6304</td>\n",
       "    </tr>\n",
       "  </tbody>\n",
       "</table>\n",
       "</div>"
      ],
      "text/plain": [
       "         date  stepCount\n",
       "0  2024-07-01       5882\n",
       "1  2024-07-02       2498\n",
       "2  2024-07-03       3178\n",
       "3  2024-07-04       6168\n",
       "4  2024-07-05       6304"
      ]
     },
     "execution_count": 5,
     "metadata": {},
     "output_type": "execute_result"
    }
   ],
   "source": [
    "step_df = pd.read_csv('../datas/step.csv')\n",
    "step_df.head()"
   ]
  },
  {
   "cell_type": "code",
   "execution_count": 6,
   "metadata": {},
   "outputs": [],
   "source": [
    "weather_df.rename(columns={'datetime': 'Date'}, inplace=True)\n",
    "sleep_df.rename(columns={'creationDate': 'Date'}, inplace=True)\n",
    "step_df.rename(columns={'date': 'Date'}, inplace=True)"
   ]
  },
  {
   "cell_type": "code",
   "execution_count": 7,
   "metadata": {},
   "outputs": [
    {
     "name": "stdout",
     "output_type": "stream",
     "text": [
      "Weather data date range: (Timestamp('2024-07-01 00:00:00'), Timestamp('2024-11-25 00:00:00'))\n",
      "Sleep data date range: (Timestamp('2024-07-01 00:00:00'), Timestamp('2024-11-21 00:00:00'))\n",
      "Step data date range: (Timestamp('2024-07-01 00:00:00'), Timestamp('2024-11-28 00:00:00'))\n"
     ]
    }
   ],
   "source": [
    "weather_df['Date'] = pd.to_datetime(weather_df['Date'])\n",
    "sleep_df['Date'] = pd.to_datetime(sleep_df['Date'])\n",
    "step_df['Date'] = pd.to_datetime(step_df['Date'])\n",
    "\n",
    "weather_date_range = (weather_df['Date'].min(), weather_df['Date'].max())\n",
    "sleep_date_range = (sleep_df['Date'].min(), sleep_df['Date'].max())\n",
    "step_date_range = (step_df['Date'].min(), step_df['Date'].max())\n",
    "\n",
    "# Print the date ranges\n",
    "print(\"Weather data date range:\", weather_date_range)\n",
    "print(\"Sleep data date range:\", sleep_date_range)\n",
    "print(\"Step data date range:\", step_date_range)"
   ]
  },
  {
   "cell_type": "code",
   "execution_count": 8,
   "metadata": {},
   "outputs": [
    {
     "name": "stdout",
     "output_type": "stream",
     "text": [
      "Filtering data from 2024-07-01 to 2024-11-21\n"
     ]
    }
   ],
   "source": [
    "start_date = pd.to_datetime('2024-07-01')\n",
    "end_date = pd.to_datetime('2024-11-21')\n",
    "\n",
    "print(f\"Filtering data from {start_date.date()} to {end_date.date()}\")"
   ]
  },
  {
   "cell_type": "code",
   "execution_count": 9,
   "metadata": {},
   "outputs": [],
   "source": [
    "# Filter Weather DataFrame\n",
    "weather_df = weather_df[\n",
    "    (weather_df['Date'] >= start_date) & (weather_df['Date'] <= end_date)\n",
    "]\n",
    "\n",
    "# Filter Sleep DataFrame\n",
    "sleep_df = sleep_df[\n",
    "    (sleep_df['Date'] >= start_date) & (sleep_df['Date'] <= end_date)\n",
    "]\n",
    "\n",
    "# Filter Step DataFrame\n",
    "step_df = step_df[\n",
    "    (step_df['Date'] >= start_date) & (step_df['Date'] <= end_date)\n",
    "]"
   ]
  },
  {
   "cell_type": "code",
   "execution_count": 10,
   "metadata": {},
   "outputs": [
    {
     "name": "stdout",
     "output_type": "stream",
     "text": [
      "Weather data date range: (Timestamp('2024-07-01 00:00:00'), Timestamp('2024-11-21 00:00:00'))\n",
      "Sleep data date range: (Timestamp('2024-07-01 00:00:00'), Timestamp('2024-11-21 00:00:00'))\n",
      "Step data date range: (Timestamp('2024-07-01 00:00:00'), Timestamp('2024-11-21 00:00:00'))\n"
     ]
    }
   ],
   "source": [
    "weather_date_range = (weather_df['Date'].min(), weather_df['Date'].max())\n",
    "sleep_date_range = (sleep_df['Date'].min(), sleep_df['Date'].max())\n",
    "step_date_range = (step_df['Date'].min(), step_df['Date'].max())\n",
    "\n",
    "# Print the date ranges\n",
    "print(\"Weather data date range:\", weather_date_range)\n",
    "print(\"Sleep data date range:\", sleep_date_range)\n",
    "print(\"Step data date range:\", step_date_range)"
   ]
  },
  {
   "cell_type": "code",
   "execution_count": 11,
   "metadata": {},
   "outputs": [],
   "source": [
    "weather_df.to_csv('../datas/weather_cleaned.csv')\n",
    "sleep_df.to_csv('../datas/sleep_cleaned.csv')\n",
    "step_df.to_csv('../datas/step_cleaned.csv')"
   ]
  }
 ],
 "metadata": {
  "kernelspec": {
   "display_name": ".venv",
   "language": "python",
   "name": "python3"
  },
  "language_info": {
   "codemirror_mode": {
    "name": "ipython",
    "version": 3
   },
   "file_extension": ".py",
   "mimetype": "text/x-python",
   "name": "python",
   "nbconvert_exporter": "python",
   "pygments_lexer": "ipython3",
   "version": "3.9.6"
  }
 },
 "nbformat": 4,
 "nbformat_minor": 2
}
